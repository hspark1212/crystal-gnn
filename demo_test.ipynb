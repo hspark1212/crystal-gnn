{
 "cells": [
  {
   "cell_type": "code",
   "execution_count": 1,
   "metadata": {},
   "outputs": [],
   "source": [
    "%load_ext autoreload\n",
    "%autoreload 2"
   ]
  },
  {
   "cell_type": "code",
   "execution_count": 6,
   "metadata": {},
   "outputs": [],
   "source": [
    "from crystal_gnn.config import config\n",
    "from crystal_gnn.datamodules import JarvisDataModule\n",
    "\n",
    "_config = config()\n",
    "_config[\"batch_size\"] = 1\n",
    "jarvis_dm = JarvisDataModule(_config)"
   ]
  },
  {
   "cell_type": "code",
   "execution_count": 8,
   "metadata": {},
   "outputs": [
    {
     "name": "stdout",
     "output_type": "stream",
     "text": [
      "load data from data/jarvis/database/dft_3d_2021.json\n",
      "load graph data from data/jarvis/formation_energy_peratom\n",
      "Start setting test dataset...\n"
     ]
    }
   ],
   "source": [
    "jarvis_dm.prepare_data()\n",
    "jarvis_dm.setup(\"test\")"
   ]
  },
  {
   "cell_type": "code",
   "execution_count": 9,
   "metadata": {},
   "outputs": [],
   "source": [
    "batch = next(iter(jarvis_dm.test_dataloader()))"
   ]
  },
  {
   "cell_type": "code",
   "execution_count": 15,
   "metadata": {},
   "outputs": [
    {
     "name": "stdout",
     "output_type": "stream",
     "text": [
      "tensor([[0, 0, 0, 0, 0, 0, 0, 0, 0, 0, 0, 0, 0, 0, 0, 0, 0, 0, 0, 0, 0, 0, 0, 1,\n",
      "         1, 1, 1, 1, 1, 1, 1, 1, 1, 1, 1, 1, 1, 1, 1, 1, 1, 1, 1, 1, 1, 1, 1, 2,\n",
      "         2, 2, 2, 2, 2, 2, 2, 2, 2, 2, 2, 2, 2, 2, 2, 2, 2, 2, 2, 2, 2, 2, 3, 3,\n",
      "         3, 3, 3, 3, 3, 3, 3, 3, 3, 3, 3, 3, 3, 3, 3, 3, 3, 3, 3, 3],\n",
      "        [0, 3, 1, 2, 1, 3, 3, 0, 2, 1, 0, 3, 2, 1, 0, 2, 3, 0, 0, 2, 3, 0, 2, 1,\n",
      "         2, 1, 3, 2, 3, 0, 3, 1, 2, 1, 2, 2, 1, 2, 1, 2, 0, 0, 3, 1, 3, 0, 3, 0,\n",
      "         1, 2, 2, 1, 1, 2, 3, 1, 2, 3, 0, 2, 1, 0, 0, 0, 0, 2, 1, 3, 1, 2, 1, 3,\n",
      "         2, 0, 1, 3, 2, 1, 0, 1, 3, 3, 0, 0, 0, 3, 1, 0, 3, 3, 1, 2]]) tensor([28, 47, 52, 52]) 92\n"
     ]
    },
    {
     "data": {
      "text/plain": [
       "(tensor([[ 0,  0,  0,  0,  1,  1,  1,  1,  2,  2,  2,  2,  3,  3,  3,  3,  4,  4,\n",
       "           4,  4,  5,  5,  5,  5,  6,  6,  6,  6,  7,  7,  7,  7,  8,  8,  8,  8,\n",
       "           9,  9,  9,  9, 10, 10, 10, 10, 11, 11, 11, 11, 12, 12, 12, 12, 13, 13,\n",
       "          13, 13, 14, 14, 14, 14, 15, 15, 15, 15],\n",
       "         [ 0,  1,  2,  3,  4,  5,  6,  7,  8,  9, 10, 11, 12, 13, 14, 15,  0,  1,\n",
       "           2,  3,  4,  5,  6,  7,  8,  9, 10, 11, 12, 13, 14, 15,  0,  1,  2,  3,\n",
       "           4,  5,  6,  7,  8,  9, 10, 11, 12, 13, 14, 15,  0,  1,  2,  3,  4,  5,\n",
       "           6,  7,  8,  9, 10, 11, 12, 13, 14, 15]]),\n",
       " 16,\n",
       " 64)"
      ]
     },
     "execution_count": 15,
     "metadata": {},
     "output_type": "execute_result"
    }
   ],
   "source": [
    "from torch_geometric.transforms import LineGraph\n",
    "\n",
    "print(batch.edge_index, batch.x, batch.num_edges)\n",
    "line_graph = LineGraph(force_directed=True)\n",
    "lg_batch = line_graph(batch)\n",
    "lg_batch.edge_index, lg_batch.num_nodes, lg_batch.num_edges"
   ]
  },
  {
   "cell_type": "code",
   "execution_count": 44,
   "metadata": {},
   "outputs": [],
   "source": [
    "from crystal_gnn.experimental.alignn import ALIGNN\n",
    "\n",
    "model = ALIGNN(_config)"
   ]
  },
  {
   "cell_type": "code",
   "execution_count": 46,
   "metadata": {},
   "outputs": [
    {
     "data": {
      "text/plain": [
       "tensor([[-0.0384],\n",
       "        [-0.0324],\n",
       "        [-0.0384],\n",
       "        [-0.0461],\n",
       "        [-0.0332],\n",
       "        [-0.0160],\n",
       "        [-0.0196],\n",
       "        [-0.0640],\n",
       "        [-0.0404],\n",
       "        [-0.0963],\n",
       "        [-0.0308],\n",
       "        [-0.0165],\n",
       "        [-0.0234],\n",
       "        [-0.0545],\n",
       "        [-0.0440],\n",
       "        [-0.0031],\n",
       "        [-0.0238],\n",
       "        [-0.0473],\n",
       "        [-0.0188],\n",
       "        [-0.0294],\n",
       "        [-0.0168],\n",
       "        [-0.0143],\n",
       "        [-0.0407],\n",
       "        [-0.0194],\n",
       "        [-0.0444],\n",
       "        [-0.0501],\n",
       "        [-0.0726],\n",
       "        [-0.0366],\n",
       "        [-0.0171],\n",
       "        [-0.0575],\n",
       "        [-0.0228],\n",
       "        [-0.0252],\n",
       "        [-0.0743],\n",
       "        [-0.0850],\n",
       "        [-0.0491],\n",
       "        [-0.0156],\n",
       "        [-0.0376],\n",
       "        [-0.0662],\n",
       "        [-0.0726],\n",
       "        [-0.0278],\n",
       "        [-0.0585],\n",
       "        [-0.0400],\n",
       "        [-0.0192],\n",
       "        [-0.0376],\n",
       "        [-0.0461],\n",
       "        [-0.0330],\n",
       "        [-0.0170],\n",
       "        [-0.0714],\n",
       "        [-0.0131],\n",
       "        [-0.0451],\n",
       "        [-0.1761],\n",
       "        [-0.0700],\n",
       "        [-0.0174],\n",
       "        [-0.0458],\n",
       "        [-0.0206],\n",
       "        [-0.0486],\n",
       "        [-0.0662],\n",
       "        [-0.0800],\n",
       "        [-0.0198],\n",
       "        [-0.0659],\n",
       "        [-0.0195],\n",
       "        [-0.0704],\n",
       "        [-0.0822],\n",
       "        [-0.0341]], grad_fn=<MmBackward0>)"
      ]
     },
     "execution_count": 46,
     "metadata": {},
     "output_type": "execute_result"
    }
   ],
   "source": [
    "model(batch)"
   ]
  },
  {
   "cell_type": "code",
   "execution_count": null,
   "metadata": {},
   "outputs": [],
   "source": []
  },
  {
   "cell_type": "code",
   "execution_count": null,
   "metadata": {},
   "outputs": [],
   "source": []
  }
 ],
 "metadata": {
  "kernelspec": {
   "display_name": "crystal-gnn",
   "language": "python",
   "name": "python3"
  },
  "language_info": {
   "codemirror_mode": {
    "name": "ipython",
    "version": 3
   },
   "file_extension": ".py",
   "mimetype": "text/x-python",
   "name": "python",
   "nbconvert_exporter": "python",
   "pygments_lexer": "ipython3",
   "version": "3.10.13"
  }
 },
 "nbformat": 4,
 "nbformat_minor": 2
}
