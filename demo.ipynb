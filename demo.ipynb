{
 "cells": [
  {
   "cell_type": "code",
   "execution_count": null,
   "metadata": {},
   "outputs": [],
   "source": [
    "%load_ext autoreload\n",
    "%autoreload 2"
   ]
  },
  {
   "cell_type": "code",
   "execution_count": null,
   "metadata": {},
   "outputs": [],
   "source": [
    "from crystal_gnn.datamodules import JarvisDataModule\n",
    "from crystal_gnn.config import config\n",
    "\n",
    "_config = config()\n",
    "jarvis_dm = JarvisDataModule(_config)"
   ]
  },
  {
   "cell_type": "code",
   "execution_count": null,
   "metadata": {},
   "outputs": [],
   "source": [
    "jarvis_dm.prepare_data()"
   ]
  },
  {
   "cell_type": "code",
   "execution_count": null,
   "metadata": {},
   "outputs": [],
   "source": [
    "jarvis_dm.setup(\"test\")"
   ]
  },
  {
   "cell_type": "code",
   "execution_count": null,
   "metadata": {},
   "outputs": [],
   "source": [
    "test_loader = jarvis_dm.test_dataloader()"
   ]
  },
  {
   "cell_type": "code",
   "execution_count": null,
   "metadata": {},
   "outputs": [],
   "source": [
    "batch = next(iter(test_loader))"
   ]
  },
  {
   "cell_type": "code",
   "execution_count": null,
   "metadata": {},
   "outputs": [],
   "source": [
    "from crystal_gnn.models import CGCNN, SCHNET, MEGNET, NEQUIP, ALIGNN"
   ]
  },
  {
   "cell_type": "code",
   "execution_count": null,
   "metadata": {},
   "outputs": [],
   "source": [
    "from crystal_gnn.models.nequip.model import EnergyModel\n",
    "\n",
    "config = {}\n",
    "config[\"num_layers\"] = 4\n",
    "config[\"r_max\"] = 5.0\n",
    "config[\"avg_num_neighbors\"] = 10\n",
    "config[\"num_types\"] = 103\n",
    "config[\"irreps_edge_sh\"] = \"1x0e + 1x1e + 1x2e\"\n",
    "config[\"feature_irreps_hidden\"] = \"128x0e + 64x1e + 4x2e\"\n",
    "\n",
    "model = EnergyModel(config, initialize=False)\n",
    "\n",
    "new_batch = batch.clone()\n",
    "dict_batch = new_batch.to_dict()\n",
    "dict_batch[\"atom_types\"] = dict_batch.pop(\"x\").unsqueeze_(1)\n",
    "dict_batch[\"edge_cell_shift\"] = dict_batch.pop(\"edge_shift\")\n",
    "dict_batch.pop(\"name\")\n",
    "output = model(dict_batch)\n",
    "output[\"total_energy\"]"
   ]
  },
  {
   "cell_type": "code",
   "execution_count": null,
   "metadata": {},
   "outputs": [],
   "source": []
  }
 ],
 "metadata": {
  "kernelspec": {
   "display_name": "crystal-gnn",
   "language": "python",
   "name": "python3"
  },
  "language_info": {
   "codemirror_mode": {
    "name": "ipython",
    "version": 3
   },
   "file_extension": ".py",
   "mimetype": "text/x-python",
   "name": "python",
   "nbconvert_exporter": "python",
   "pygments_lexer": "ipython3",
   "version": "3.10.13"
  }
 },
 "nbformat": 4,
 "nbformat_minor": 2
}
